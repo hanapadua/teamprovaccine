{
 "cells": [
  {
   "cell_type": "code",
   "execution_count": 1,
   "id": "7d6bbb67-9dc4-4b67-8814-2b2703012738",
   "metadata": {
    "tags": []
   },
   "outputs": [],
   "source": [
    "#Creating dependencies\n",
    "import pandas as pd\n",
    "import numpy as np\n"
   ]
  },
  {
   "cell_type": "code",
   "execution_count": 4,
   "id": "eb160f78-dce1-4c76-9d9a-3feea8c7e349",
   "metadata": {},
   "outputs": [
    {
     "data": {
      "text/plain": [
       "Index(['location', 'date', 'vaccine', 'total_vaccinations'], dtype='object')"
      ]
     },
     "execution_count": 4,
     "metadata": {},
     "output_type": "execute_result"
    }
   ],
   "source": [
    "#Read the file\n",
    "data_country_to_load = \"Resources/country_vaccinations_by_manufacturer.csv\"\n",
    "data_country = pd.read_csv(data_country_to_load,sep=',')\n",
    "data_country_df = pd.DataFrame(data_country)\n",
    "data_country_df.columns\n",
    "# list(data_country.columns)\n"
   ]
  },
  {
   "cell_type": "code",
   "execution_count": 5,
   "id": "d9a43be1-e5d9-4701-9204-fb44cdd744f9",
   "metadata": {},
   "outputs": [
    {
     "data": {
      "text/html": [
       "<div>\n",
       "<style scoped>\n",
       "    .dataframe tbody tr th:only-of-type {\n",
       "        vertical-align: middle;\n",
       "    }\n",
       "\n",
       "    .dataframe tbody tr th {\n",
       "        vertical-align: top;\n",
       "    }\n",
       "\n",
       "    .dataframe thead th {\n",
       "        text-align: right;\n",
       "    }\n",
       "</style>\n",
       "<table border=\"1\" class=\"dataframe\">\n",
       "  <thead>\n",
       "    <tr style=\"text-align: right;\">\n",
       "      <th></th>\n",
       "      <th>date</th>\n",
       "      <th>total_vaccinations</th>\n",
       "    </tr>\n",
       "  </thead>\n",
       "  <tbody>\n",
       "    <tr>\n",
       "      <th>0</th>\n",
       "      <td>2020-12-04</td>\n",
       "      <td>1.000000e+00</td>\n",
       "    </tr>\n",
       "    <tr>\n",
       "      <th>1</th>\n",
       "      <td>2020-12-16</td>\n",
       "      <td>1.000000e+00</td>\n",
       "    </tr>\n",
       "    <tr>\n",
       "      <th>2</th>\n",
       "      <td>2020-12-20</td>\n",
       "      <td>4.000000e+00</td>\n",
       "    </tr>\n",
       "    <tr>\n",
       "      <th>3</th>\n",
       "      <td>2020-12-22</td>\n",
       "      <td>3.000000e+00</td>\n",
       "    </tr>\n",
       "    <tr>\n",
       "      <th>4</th>\n",
       "      <td>2020-12-24</td>\n",
       "      <td>4.200000e+02</td>\n",
       "    </tr>\n",
       "    <tr>\n",
       "      <th>...</th>\n",
       "      <td>...</td>\n",
       "      <td>...</td>\n",
       "    </tr>\n",
       "    <tr>\n",
       "      <th>194</th>\n",
       "      <td>2021-07-02</td>\n",
       "      <td>6.389063e+06</td>\n",
       "    </tr>\n",
       "    <tr>\n",
       "      <th>195</th>\n",
       "      <td>2021-07-03</td>\n",
       "      <td>1.351846e+07</td>\n",
       "    </tr>\n",
       "    <tr>\n",
       "      <th>196</th>\n",
       "      <td>2021-07-04</td>\n",
       "      <td>1.356880e+07</td>\n",
       "    </tr>\n",
       "    <tr>\n",
       "      <th>197</th>\n",
       "      <td>2021-07-05</td>\n",
       "      <td>7.041923e+06</td>\n",
       "    </tr>\n",
       "    <tr>\n",
       "      <th>198</th>\n",
       "      <td>2021-07-06</td>\n",
       "      <td>2.468925e+06</td>\n",
       "    </tr>\n",
       "  </tbody>\n",
       "</table>\n",
       "<p>199 rows × 2 columns</p>\n",
       "</div>"
      ],
      "text/plain": [
       "           date  total_vaccinations\n",
       "0    2020-12-04        1.000000e+00\n",
       "1    2020-12-16        1.000000e+00\n",
       "2    2020-12-20        4.000000e+00\n",
       "3    2020-12-22        3.000000e+00\n",
       "4    2020-12-24        4.200000e+02\n",
       "..          ...                 ...\n",
       "194  2021-07-02        6.389063e+06\n",
       "195  2021-07-03        1.351846e+07\n",
       "196  2021-07-04        1.356880e+07\n",
       "197  2021-07-05        7.041923e+06\n",
       "198  2021-07-06        2.468925e+06\n",
       "\n",
       "[199 rows x 2 columns]"
      ]
     },
     "execution_count": 5,
     "metadata": {},
     "output_type": "execute_result"
    }
   ],
   "source": [
    "# # Creating a dataframe for random countries\n",
    "# preferred_country = ['Austria','Belgium','Czechia','Denmark','France','Germany','Italy','Japan','Netherlands','United States']\n",
    "# for country in preferred_country:\n",
    "#     display(data_country[data_country['location']==country][['location', 'date', 'vaccine', 'total_vaccinations']].sort_values(by='total_vaccinations', ascending = True))\n",
    "# vaccine_by_country = data_country.groupby(['date'])['total_vaccinations'].mean().to_frame().reset_index()\n",
    "# vaccine_by_country\n",
    "\n",
    "vaccine_by_country = data_country.groupby(['date'])['total_vaccinations'].mean().to_frame().reset_index()\n",
    "vaccine_by_country\n",
    "\n",
    "# by_vaccine = data_country.groupby(['date', 'vaccine', 'location'])['total_vaccinations'].mean().to_frame().reset_index().head(10)\n",
    "# by_vaccine\n"
   ]
  },
  {
   "cell_type": "code",
   "execution_count": null,
   "id": "b3cf0bc9-0d94-4224-a419-078392f22fa2",
   "metadata": {},
   "outputs": [],
   "source": []
  }
 ],
 "metadata": {
  "kernelspec": {
   "display_name": "Python 3",
   "language": "python",
   "name": "python3"
  },
  "language_info": {
   "codemirror_mode": {
    "name": "ipython",
    "version": 3
   },
   "file_extension": ".py",
   "mimetype": "text/x-python",
   "name": "python",
   "nbconvert_exporter": "python",
   "pygments_lexer": "ipython3",
   "version": "3.8.8"
  }
 },
 "nbformat": 4,
 "nbformat_minor": 5
}